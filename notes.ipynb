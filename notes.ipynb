{
 "cells": [
  {
   "cell_type": "markdown",
   "id": "96ba9cdb",
   "metadata": {},
   "source": [
    "# My Notebook\n",
    "\n",
    "## Introduction\n",
    "- Name: Syarief Qayum Suaib"
   ]
  },
  {
   "cell_type": "code",
   "execution_count": null,
   "id": "95eac97c",
   "metadata": {
    "vscode": {
     "languageId": "plaintext"
    }
   },
   "outputs": [],
   "source": [
    "print(\"This code will be executed.\")"
   ]
  }
 ],
 "metadata": {
  "language_info": {
   "name": "python"
  }
 },
 "nbformat": 4,
 "nbformat_minor": 5
}
